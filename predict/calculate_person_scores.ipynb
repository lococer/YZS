{
 "cells": [
  {
   "cell_type": "code",
   "execution_count": 9,
   "metadata": {},
   "outputs": [],
   "source": [
    "import pandas as pd\n",
    "\n",
    "person_df = pd.read_csv('person.csv')[['person_id', 'name']]\n",
    "relationship_df = pd.read_csv('relationships.csv')\n",
    "movie_df = pd.read_csv('movies.csv')[['movie_id', 'rating']]"
   ]
  },
  {
   "cell_type": "code",
   "execution_count": 10,
   "metadata": {},
   "outputs": [],
   "source": [
    "person_df = pd.merge(person_df, relationship_df, on='person_id', how='left')\n",
    "person_df = pd.merge(person_df, movie_df, on='movie_id', how='left')\n"
   ]
  },
  {
   "cell_type": "code",
   "execution_count": 11,
   "metadata": {},
   "outputs": [],
   "source": [
    "aver_df = person_df.groupby('person_id')['rating'].mean().reset_index()\n",
    "aver_df.to_csv('./csv/person_score.csv')"
   ]
  }
 ],
 "metadata": {
  "kernelspec": {
   "display_name": "Python 3",
   "language": "python",
   "name": "python3"
  },
  "language_info": {
   "codemirror_mode": {
    "name": "ipython",
    "version": 3
   },
   "file_extension": ".py",
   "mimetype": "text/x-python",
   "name": "python",
   "nbconvert_exporter": "python",
   "pygments_lexer": "ipython3",
   "version": "3.10.12"
  }
 },
 "nbformat": 4,
 "nbformat_minor": 2
}
