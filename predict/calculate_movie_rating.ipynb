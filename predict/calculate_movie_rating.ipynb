{
 "cells": [
  {
   "cell_type": "code",
   "execution_count": 1,
   "metadata": {},
   "outputs": [],
   "source": [
    "import pandas as pd"
   ]
  },
  {
   "cell_type": "code",
   "execution_count": 2,
   "metadata": {},
   "outputs": [],
   "source": [
    "movie_df = pd.read_csv('./csv/movies.csv')\n",
    "relationship_df = pd.read_csv('./csv/relationships.csv')\n",
    "personscore_df = pd.read_csv('./csv/person_score.csv')[['person_id', 'person_rating']]"
   ]
  },
  {
   "cell_type": "code",
   "execution_count": 3,
   "metadata": {},
   "outputs": [],
   "source": [
    "movie_df = pd.merge(movie_df, relationship_df, on='movie_id', how='left')\n",
    "movie_df = pd.merge(movie_df, personscore_df, on='person_id', how='left')"
   ]
  },
  {
   "cell_type": "code",
   "execution_count": 4,
   "metadata": {},
   "outputs": [],
   "source": [
    "director_df = movie_df[movie_df['role'].isin(['director'])]\n",
    "author_df = movie_df[movie_df['role'].isin(['author'])]\n",
    "actor_df = movie_df[movie_df['role'].isin(['actor'])]"
   ]
  },
  {
   "cell_type": "code",
   "execution_count": 5,
   "metadata": {},
   "outputs": [
    {
     "name": "stdout",
     "output_type": "stream",
     "text": [
      "<bound method NDFrame.head of        movie_id  director_rating\n",
      "0       1291543         7.214458\n",
      "1       1291544         7.688889\n",
      "2       1291545         7.541379\n",
      "3       1291546         7.212121\n",
      "4       1291548         7.600000\n",
      "...         ...              ...\n",
      "28235  30416337         4.150000\n",
      "28236  30416876         4.100000\n",
      "28237  30419287         5.150000\n",
      "28238  30425945         4.300000\n",
      "28239  30426860         5.000000\n",
      "\n",
      "[28240 rows x 2 columns]>\n",
      "<bound method NDFrame.head of        movie_id  author_rating\n",
      "0       1291543       7.214458\n",
      "1       1291544       8.250000\n",
      "2       1291545       7.425000\n",
      "3       1291546       7.392857\n",
      "4       1291548       7.342857\n",
      "...         ...            ...\n",
      "26539  30416337       6.139527\n",
      "26540  30419287       5.450000\n",
      "26541  30425945       4.300000\n",
      "26542  30426860       5.000000\n",
      "26543  30446871       8.033333\n",
      "\n",
      "[26544 rows x 2 columns]>\n",
      "<bound method NDFrame.head of        movie_id  actor_rating\n",
      "0       1291543      6.183896\n",
      "1       1291544      7.398519\n",
      "2       1291545      7.346164\n",
      "3       1291546      7.318078\n",
      "4       1291548      7.432268\n",
      "...         ...           ...\n",
      "30885  30425945      4.941667\n",
      "30886  30426860      6.704348\n",
      "30887  30438491      7.262702\n",
      "30888  30443834      5.126923\n",
      "30889  30446871      7.036667\n",
      "\n",
      "[30890 rows x 2 columns]>\n"
     ]
    }
   ],
   "source": [
    "directorscore_df = director_df.groupby('movie_id').head(1).groupby('movie_id')['person_rating'].mean().reset_index()\n",
    "authorscore_df = author_df.groupby('movie_id').head(1).groupby('movie_id')['person_rating'].mean().reset_index()\n",
    "actorscore_df = actor_df.groupby('movie_id').head(2).groupby('movie_id')['person_rating'].mean().reset_index()\n",
    "directorscore_df.columns = ['movie_id', 'director_rating']\n",
    "authorscore_df.columns = ['movie_id', 'author_rating']\n",
    "actorscore_df.columns = ['movie_id', 'actor_rating']\n",
    "print(directorscore_df.head)\n",
    "print(authorscore_df.head)\n",
    "print(actorscore_df.head)"
   ]
  },
  {
   "cell_type": "code",
   "execution_count": 6,
   "metadata": {},
   "outputs": [],
   "source": [
    "directorscore_df.to_csv('./csv/director_score.csv')\n",
    "authorscore_df.to_csv('./csv/author_score.csv')\n",
    "actorscore_df.to_csv('./csv/actor_score.csv')"
   ]
  },
  {
   "cell_type": "code",
   "execution_count": 7,
   "metadata": {},
   "outputs": [],
   "source": [
    "merged_df = pd.read_csv('./csv/merged.csv')\n",
    "merged_df = pd.merge(merged_df, directorscore_df, on='movie_id', how='left')\n",
    "merged_df = pd.merge(merged_df, authorscore_df, on='movie_id', how='left')\n",
    "merged_df = pd.merge(merged_df, actorscore_df, on='movie_id', how='left')"
   ]
  },
  {
   "cell_type": "code",
   "execution_count": 8,
   "metadata": {},
   "outputs": [],
   "source": [
    "merged_df.to_csv('./csv/merged_score.csv')"
   ]
  }
 ],
 "metadata": {
  "kernelspec": {
   "display_name": "Python 3",
   "language": "python",
   "name": "python3"
  },
  "language_info": {
   "codemirror_mode": {
    "name": "ipython",
    "version": 3
   },
   "file_extension": ".py",
   "mimetype": "text/x-python",
   "name": "python",
   "nbconvert_exporter": "python",
   "pygments_lexer": "ipython3",
   "version": "3.10.12"
  }
 },
 "nbformat": 4,
 "nbformat_minor": 2
}
