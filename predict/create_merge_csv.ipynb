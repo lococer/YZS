{
 "cells": [
  {
   "cell_type": "code",
   "execution_count": 2,
   "metadata": {},
   "outputs": [],
   "source": [
    "import pandas as pd\n",
    "\n",
    "# 读取电影数据\n",
    "movies_df = pd.read_csv('movies.csv')\n",
    "# 读取人物数据\n",
    "person_df = pd.read_csv('person.csv')\n",
    "# 读取电影与人物关系数据\n",
    "relationships_df = pd.read_csv('relationships.csv')"
   ]
  },
  {
   "cell_type": "code",
   "execution_count": 3,
   "metadata": {},
   "outputs": [],
   "source": [
    "# 根据角色类型筛选导演、编剧和演员\n",
    "directors_df = relationships_df[relationships_df['role'] == 'director'][['movie_id', 'person_id']]\n",
    "authors_df = relationships_df[relationships_df['role'] == 'author'][['movie_id', 'person_id']]\n",
    "actors_df = relationships_df[relationships_df['role'] == 'actor'][['movie_id', 'person_id']]"
   ]
  },
  {
   "cell_type": "code",
   "execution_count": 4,
   "metadata": {},
   "outputs": [],
   "source": [
    "directors_df = pd.merge(directors_df, person_df, on='person_id', how='left')[['movie_id', 'name']]\n",
    "directors_df = directors_df.rename(columns={'name': 'director_name'})\n",
    "authors_df = pd.merge(authors_df, person_df, on='person_id', how='left')[['movie_id', 'name']]\n",
    "authors_df = authors_df.rename(columns={'name': 'author_name'})\n",
    "actors_df = pd.merge(actors_df, person_df, on='person_id', how='left')[['movie_id', 'name']]\n",
    "actors_df = actors_df.rename(columns={'name': 'actor_name'})"
   ]
  },
  {
   "cell_type": "code",
   "execution_count": 5,
   "metadata": {},
   "outputs": [],
   "source": [
    "directors_df['director_name'] = directors_df['director_name'].apply(lambda x: [x] if isinstance(x, str) else x)\n",
    "directors_df = directors_df.groupby('movie_id')['director_name'].apply(lambda x: [item for sublist in x for item in sublist]).reset_index()\n",
    "directors_df.reset_index(drop=True, inplace=True)\n",
    "# 现在，directors_df 中的每个 movie_id 应该只有一个对应的 director_name 列表\n",
    "authors_df['author_name'] = authors_df['author_name'].apply(lambda x: [x] if isinstance(x, str) else x)\n",
    "authors_df = authors_df.groupby('movie_id')['author_name'].apply(lambda x: [item for sublist in x for item in sublist]).reset_index()\n",
    "authors_df.reset_index(drop=True, inplace=True)\n",
    "# authors_df 中的每个 movie_id 应该只有一个对应的 author_name 列表\n",
    "actors_df['actor_name'] = actors_df['actor_name'].apply(lambda x: [x] if pd.notna(x) and isinstance(x, str) else [])\n",
    "actors_df['actor_name'] = actors_df['actor_name'].apply(lambda x: [x] if isinstance(x, str) else x)\n",
    "actors_df = actors_df.groupby('movie_id')['actor_name'].apply(lambda x: [item for sublist in x for item in sublist]).reset_index()\n",
    "actors_df.reset_index(drop=True, inplace=True)\n",
    "# actors_df 中的每个 movie_id 应该只有一个对应的 actor_name 列表"
   ]
  },
  {
   "cell_type": "code",
   "execution_count": null,
   "metadata": {},
   "outputs": [],
   "source": [
    "print(directors_df.head)\n",
    "print(authors_df.head)\n",
    "print(actors_df.head)"
   ]
  },
  {
   "cell_type": "code",
   "execution_count": 7,
   "metadata": {},
   "outputs": [],
   "source": [
    "# 将筛选后的数据合并到电影数据中\n",
    "movies_df = pd.merge(movies_df, directors_df, on='movie_id', how='left', suffixes=('', '_director'))\n",
    "movies_df = pd.merge(movies_df, authors_df, on='movie_id', how='left', suffixes=('', '_author'))\n",
    "movies_df = pd.merge(movies_df, actors_df, on='movie_id', how='left', suffixes=('', '_actor'))"
   ]
  },
  {
   "cell_type": "code",
   "execution_count": 11,
   "metadata": {},
   "outputs": [],
   "source": [
    "# 保存更新后的电影数据到新的CSV文件\n",
    "movies_df.to_csv('merged.csv', index=False)\n",
    "# 获取前100行数据\n",
    "top_100_movies_df = movies_df.head(100)\n",
    "# 保存到 CSV 文件，不包括索引\n",
    "top_100_movies_df.to_csv('merged_partial.csv', index=False)"
   ]
  }
 ],
 "metadata": {
  "kernelspec": {
   "display_name": "Python 3",
   "language": "python",
   "name": "python3"
  },
  "language_info": {
   "codemirror_mode": {
    "name": "ipython",
    "version": 3
   },
   "file_extension": ".py",
   "mimetype": "text/x-python",
   "name": "python",
   "nbconvert_exporter": "python",
   "pygments_lexer": "ipython3",
   "version": "3.10.12"
  }
 },
 "nbformat": 4,
 "nbformat_minor": 2
}
